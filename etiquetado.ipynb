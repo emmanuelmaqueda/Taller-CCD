{
 "cells": [
  {
   "cell_type": "code",
   "execution_count": 6,
   "metadata": {},
   "outputs": [],
   "source": [
    "import os\n",
    "\n",
    "contenido= list()\n",
    "\n",
    "with open('./RosaEsp/poemas_de_contemporaneos_para_entrenar.txt', 'r',  encoding='utf-8', errors='ignore') as archivo:\n",
    "       for linea in archivo:\n",
    "            if not linea == '\\n':\n",
    "                linea.rstrip('\\n')\n",
    "                linea2 = ' -- '+linea+' -- \\n'\n",
    "            else:\n",
    "                linea2 = '\\n'\n",
    "            \n",
    "            #print(linea2)\n",
    "            l = linea2.split('\\n --')\n",
    "            #print(l)\n",
    "            \n",
    "            if l == ['\\n']:\n",
    "                l = '*p'.join(l)\n",
    "                #print(p)\n",
    "                contenido.append('*p \\n'+ l + '*p')\n",
    "                \n",
    "            elif not l == ['\\n'] :\n",
    "                l = ' -- '.join(l)\n",
    "                contenido.append((l))\n",
    "            \n",
    "        \n",
    "\n",
    "with open('./RosaEsp/marcas/Entrenamiento_Cotemp_M.txt', 'w',  encoding='utf-8', errors='ignore') as archivo:\n",
    "    archivo.writelines(contenido)"
   ]
  },
  {
   "cell_type": "code",
   "execution_count": null,
   "metadata": {},
   "outputs": [],
   "source": []
  }
 ],
 "metadata": {
  "kernelspec": {
   "display_name": "Python 3",
   "language": "python",
   "name": "python3"
  },
  "language_info": {
   "codemirror_mode": {
    "name": "ipython",
    "version": 3
   },
   "file_extension": ".py",
   "mimetype": "text/x-python",
   "name": "python",
   "nbconvert_exporter": "python",
   "pygments_lexer": "ipython3",
   "version": "3.8.3"
  }
 },
 "nbformat": 4,
 "nbformat_minor": 4
}
